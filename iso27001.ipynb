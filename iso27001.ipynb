{
 "cells": [
  {
   "cell_type": "code",
   "execution_count": 1,
   "id": "77d97104",
   "metadata": {},
   "outputs": [],
   "source": [
    "from utils import (\n",
    "    visualize, CONSTRUCT_ER, CONSTRUCT_RL, xvisualize,\n",
    "    from_sparql, prefixes, show_svg)\n",
    "from rdflib import Graph\n",
    "import sparql_dataframe\n",
    "\n",
    "endpoint = \"http://virtuoso:8890/sparql\"\n"
   ]
  },
  {
   "cell_type": "code",
   "execution_count": 5,
   "id": "c2af7a5c",
   "metadata": {},
   "outputs": [
    {
     "data": {
      "text/html": [
       "<div>\n",
       "<style scoped>\n",
       "    .dataframe tbody tr th:only-of-type {\n",
       "        vertical-align: middle;\n",
       "    }\n",
       "\n",
       "    .dataframe tbody tr th {\n",
       "        vertical-align: top;\n",
       "    }\n",
       "\n",
       "    .dataframe thead th {\n",
       "        text-align: right;\n",
       "    }\n",
       "</style>\n",
       "<table border=\"1\" class=\"dataframe\">\n",
       "  <thead>\n",
       "    <tr style=\"text-align: right;\">\n",
       "      <th></th>\n",
       "      <th>s</th>\n",
       "    </tr>\n",
       "  </thead>\n",
       "  <tbody>\n",
       "  </tbody>\n",
       "</table>\n",
       "</div>"
      ],
      "text/plain": [
       "Empty DataFrame\n",
       "Columns: [s]\n",
       "Index: []"
      ]
     },
     "execution_count": 5,
     "metadata": {},
     "output_type": "execute_result"
    }
   ],
   "source": [
    "sparql_dataframe.get(endpoint, prefixes+ \"\"\"\n",
    "prefix iso: <http://par-tec.it/onto/iso/27001/latest/> \n",
    "\n",
    "SELECT DISTINCT *\n",
    "\n",
    "WHERE {\n",
    "\n",
    "[] a iso:Control;\n",
    "  rdfs:comment ?s\n",
    "\n",
    "}\n",
    "\"\"\")"
   ]
  },
  {
   "cell_type": "code",
   "execution_count": null,
   "id": "6fb21cbf",
   "metadata": {},
   "outputs": [],
   "source": [
    "secure coding\n",
    "8.27\n",
    "8.28\n",
    "8.29\n",
    "\n"
   ]
  }
 ],
 "metadata": {
  "kernelspec": {
   "display_name": "Python 3 (ipykernel)",
   "language": "python",
   "name": "python3"
  },
  "language_info": {
   "codemirror_mode": {
    "name": "ipython",
    "version": 3
   },
   "file_extension": ".py",
   "mimetype": "text/x-python",
   "name": "python",
   "nbconvert_exporter": "python",
   "pygments_lexer": "ipython3",
   "version": "3.9.9"
  }
 },
 "nbformat": 4,
 "nbformat_minor": 5
}
